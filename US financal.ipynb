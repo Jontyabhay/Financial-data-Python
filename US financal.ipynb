{
 "cells": [
  {
   "cell_type": "code",
   "execution_count": 22,
   "metadata": {},
   "outputs": [],
   "source": [
    "import pandas as pd\n",
    "import pandas_datareader.data as web\n",
    "from datetime import datetime\n",
    "import pandas_datareader.wb as wb\n",
    "import numpy as np"
   ]
  },
  {
   "cell_type": "code",
   "execution_count": 7,
   "metadata": {},
   "outputs": [
    {
     "name": "stdout",
     "output_type": "stream",
     "text": [
      "            Date  Gold_Price\n",
      "0     2019-08-30     1528.40\n",
      "1     2019-08-29     1540.20\n",
      "2     2019-08-28     1537.15\n",
      "3     2019-08-27     1532.95\n",
      "4     2019-08-26     1503.80\n",
      "...          ...         ...\n",
      "5386  1999-01-07      289.95\n",
      "5387  1999-01-06      287.65\n",
      "5388  1999-01-05      287.15\n",
      "5389  1999-01-04      287.15\n",
      "5390  1999-01-01      287.80\n",
      "\n",
      "[5391 rows x 2 columns]\n"
     ]
    }
   ],
   "source": [
    "gold_prices = pd.read_csv('gold_prices.csv')\n",
    "print(gold_prices)"
   ]
  },
  {
   "cell_type": "code",
   "execution_count": 4,
   "metadata": {},
   "outputs": [
    {
     "name": "stdout",
     "output_type": "stream",
     "text": [
      "              Date  Crude_Oil_Price\n",
      "0     Sep 11, 2018            69.25\n",
      "1     Sep 10, 2018            67.54\n",
      "2     Sep 07, 2018            67.75\n",
      "3     Sep 06, 2018            67.77\n",
      "4     Sep 05, 2018            68.72\n",
      "...            ...              ...\n",
      "4995  Jan 08, 1999            13.07\n",
      "4996  Jan 07, 1999            13.09\n",
      "4997  Jan 06, 1999            12.80\n",
      "4998  Jan 05, 1999            11.99\n",
      "4999  Jan 04, 1999            12.34\n",
      "\n",
      "[5000 rows x 2 columns]\n"
     ]
    }
   ],
   "source": [
    "crude_oil_prices = pd.read_csv('crude_oil_prices.csv')\n",
    "print(crude_oil_prices)"
   ]
  },
  {
   "cell_type": "code",
   "execution_count": 9,
   "metadata": {},
   "outputs": [],
   "source": [
    "start = datetime(1999,1,1)\n",
    "end = datetime(2019,1,1)"
   ]
  },
  {
   "cell_type": "code",
   "execution_count": 11,
   "metadata": {},
   "outputs": [],
   "source": [
    "nasdaq_data = web.DataReader('NASDAQ100','fred',start,end)"
   ]
  },
  {
   "cell_type": "code",
   "execution_count": 14,
   "metadata": {},
   "outputs": [],
   "source": [
    "sap_data = web.DataReader('SP500','fred',start,end)"
   ]
  },
  {
   "cell_type": "code",
   "execution_count": 28,
   "metadata": {},
   "outputs": [
    {
     "name": "stdout",
     "output_type": "stream",
     "text": [
      "                    NY.GDP.MKTP.CD\n",
      "country       year                \n",
      "United States 2019             NaN\n",
      "              2018    2.054434e+13\n",
      "              2017    1.948539e+13\n",
      "              2016    1.870719e+13\n",
      "              2015    1.821930e+13\n",
      "              2014    1.752175e+13\n",
      "              2013    1.678485e+13\n",
      "              2012    1.619701e+13\n",
      "              2011    1.554258e+13\n",
      "              2010    1.499205e+13\n",
      "              2009    1.444893e+13\n",
      "              2008    1.471284e+13\n",
      "              2007    1.445186e+13\n",
      "              2006    1.381461e+13\n",
      "              2005    1.303664e+13\n",
      "              2004    1.221373e+13\n",
      "              2003    1.145824e+13\n",
      "              2002    1.093642e+13\n",
      "              2001    1.058182e+13\n",
      "              2000    1.025235e+13\n",
      "              1999    9.630664e+12\n"
     ]
    }
   ],
   "source": [
    "gdp_data = wb.download(indicator='NY.GDP.MKTP.CD', country=['US'], start=start, end=end)\n",
    "print(gdp_data)"
   ]
  },
  {
   "cell_type": "code",
   "execution_count": 17,
   "metadata": {},
   "outputs": [
    {
     "name": "stdout",
     "output_type": "stream",
     "text": [
      "                    NE.EXP.GNFS.CN\n",
      "country       year                \n",
      "United States 2019             NaN\n",
      "              2018    2.510250e+12\n",
      "              2017    2.356726e+12\n",
      "              2016    2.220609e+12\n",
      "              2015    2.266800e+12\n",
      "              2014    2.371704e+12\n",
      "              2013    2.273428e+12\n",
      "              2012    2.191280e+12\n",
      "              2011    2.102995e+12\n",
      "              2010    1.846280e+12\n",
      "              2009    1.581996e+12\n",
      "              2008    1.837055e+12\n",
      "              2007    1.660853e+12\n",
      "              2006    1.472613e+12\n",
      "              2005    1.305225e+12\n",
      "              2004    1.177631e+12\n",
      "              2003    1.036177e+12\n",
      "              2002    9.987410e+11\n",
      "              2001    1.024636e+12\n",
      "              2000    1.096255e+12\n",
      "              1999    9.927780e+11\n"
     ]
    }
   ],
   "source": [
    "export_data = wb.download(indicator='NE.EXP.GNFS.CN', country=['US'], start=start, end=end)\n",
    "print(export_data)"
   ]
  },
  {
   "cell_type": "code",
   "execution_count": 23,
   "metadata": {},
   "outputs": [],
   "source": [
    "def log_return(prices):\n",
    "    return np.log(prices/prices.shift(1))"
   ]
  },
  {
   "cell_type": "code",
   "execution_count": 24,
   "metadata": {},
   "outputs": [],
   "source": [
    "gold_returns = log_return(gold_prices.Gold_Price)"
   ]
  },
  {
   "cell_type": "code",
   "execution_count": 29,
   "metadata": {},
   "outputs": [],
   "source": [
    "crude_oil_returns = log_return(crude_oil_prices['Crude_Oil_Price'])\n",
    "nasdaq_returns = log_return(nasdaq_data['NASDAQ100'])\n",
    "sap_returns = log_return(sap_data['SP500'])\n",
    "gdp_returns = log_return(gdp_data['NY.GDP.MKTP.CD'])\n",
    "export_returns = log_return(export_data['NE.EXP.GNFS.CN'])"
   ]
  },
  {
   "cell_type": "code",
   "execution_count": 30,
   "metadata": {},
   "outputs": [
    {
     "name": "stdout",
     "output_type": "stream",
     "text": [
      "0.0005563207795629881\n",
      "0.0003178379833057229\n",
      "8.52290063736515e-05\n",
      "0.00036086769181154757\n",
      "0.006403181739173174\n"
     ]
    }
   ],
   "source": [
    "print(crude_oil_returns.var())\n",
    "print(nasdaq_returns.var())\n",
    "print(sap_returns.var())\n",
    "print(gdp_returns.var())\n",
    "print(export_returns.var())"
   ]
  }
 ],
 "metadata": {
  "kernelspec": {
   "display_name": "Python 3",
   "language": "python",
   "name": "python3"
  },
  "language_info": {
   "codemirror_mode": {
    "name": "ipython",
    "version": 3
   },
   "file_extension": ".py",
   "mimetype": "text/x-python",
   "name": "python",
   "nbconvert_exporter": "python",
   "pygments_lexer": "ipython3",
   "version": "3.7.6"
  }
 },
 "nbformat": 4,
 "nbformat_minor": 4
}
